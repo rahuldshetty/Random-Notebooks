{
  "nbformat": 4,
  "nbformat_minor": 0,
  "metadata": {
    "colab": {
      "name": "Understanding Character Level RNN.ipynb",
      "provenance": [],
      "collapsed_sections": [],
      "machine_shape": "hm"
    },
    "kernelspec": {
      "name": "python3",
      "display_name": "Python 3"
    }
  },
  "cells": [
    {
      "cell_type": "markdown",
      "metadata": {
        "id": "sueb7grnlqvE",
        "colab_type": "text"
      },
      "source": [
        "Notebook is based on the following video:\n",
        "[Andrej Karapathy Lecture Video on RNN](https://www.youtube.com/watch?v=yCC09vCHzF8)\n",
        "\n",
        "[Gist Link](https://gist.github.com/karpathy/d4dee566867f8291f086)"
      ]
    },
    {
      "cell_type": "code",
      "metadata": {
        "id": "_BAxDQhQlZWr",
        "colab_type": "code",
        "outputId": "9283af31-2892-46c2-c675-2319f891147e",
        "colab": {
          "base_uri": "https://localhost:8080/",
          "height": 235
        }
      },
      "source": [
        "!wget https://storage.googleapis.com/download.tensorflow.org/data/shakespeare.txt\n",
        "!ls"
      ],
      "execution_count": 1,
      "outputs": [
        {
          "output_type": "stream",
          "text": [
            "--2020-04-26 12:53:01--  https://storage.googleapis.com/download.tensorflow.org/data/shakespeare.txt\n",
            "Resolving storage.googleapis.com (storage.googleapis.com)... 108.177.119.128, 2a00:1450:4013:c00::80\n",
            "Connecting to storage.googleapis.com (storage.googleapis.com)|108.177.119.128|:443... connected.\n",
            "HTTP request sent, awaiting response... 200 OK\n",
            "Length: 1115394 (1.1M) [text/plain]\n",
            "Saving to: ‘shakespeare.txt’\n",
            "\n",
            "\rshakespeare.txt       0%[                    ]       0  --.-KB/s               \rshakespeare.txt     100%[===================>]   1.06M  --.-KB/s    in 0.007s  \n",
            "\n",
            "2020-04-26 12:53:01 (153 MB/s) - ‘shakespeare.txt’ saved [1115394/1115394]\n",
            "\n",
            "sample_data  shakespeare.txt\n"
          ],
          "name": "stdout"
        }
      ]
    },
    {
      "cell_type": "code",
      "metadata": {
        "id": "YZgAfNHPlnAA",
        "colab_type": "code",
        "colab": {}
      },
      "source": [
        "import numpy as np"
      ],
      "execution_count": 0,
      "outputs": []
    },
    {
      "cell_type": "code",
      "metadata": {
        "id": "IaVRB3C2mO8m",
        "colab_type": "code",
        "outputId": "7b18728e-b120-458a-d105-ada15194136c",
        "colab": {
          "base_uri": "https://localhost:8080/",
          "height": 53
        }
      },
      "source": [
        "data = open('shakespeare.txt', 'r').read().lower()\n",
        "chars = list(set(data))\n",
        "data_size, vocab_size = len(data), len(chars)\n",
        "print(\"Length of data - {}\\n Number of chars - {}\".format(\n",
        "    data_size,\n",
        "    vocab_size\n",
        "))\n",
        "char2idx = {ch:i for i,ch in enumerate(chars)}\n",
        "idx2char = {i:ch for i,ch in enumerate(chars)}"
      ],
      "execution_count": 3,
      "outputs": [
        {
          "output_type": "stream",
          "text": [
            "Length of data - 1115394\n",
            " Number of chars - 39\n"
          ],
          "name": "stdout"
        }
      ]
    },
    {
      "cell_type": "code",
      "metadata": {
        "id": "1_rvuN-ZT6M8",
        "colab_type": "code",
        "colab": {
          "base_uri": "https://localhost:8080/",
          "height": 53
        },
        "outputId": "f3cdcd5c-3a2f-44df-88d9-89097cc84517"
      },
      "source": [
        "print(data[:50])"
      ],
      "execution_count": 4,
      "outputs": [
        {
          "output_type": "stream",
          "text": [
            "first citizen:\n",
            "before we proceed any further, hear\n"
          ],
          "name": "stdout"
        }
      ]
    },
    {
      "cell_type": "code",
      "metadata": {
        "id": "qJApVOV9ekrU",
        "colab_type": "code",
        "colab": {
          "base_uri": "https://localhost:8080/",
          "height": 35
        },
        "outputId": "07ca22e9-9abf-4824-a08a-fc11b9512fdc"
      },
      "source": [
        "seq_length = 12\n",
        "sequences = []\n",
        "for i in range(0,data_size - seq_length + 1, seq_length):\n",
        "  seq = data[i:i+seq_length]\n",
        "  sequences.append(seq)\n",
        "print(sequences[:5])"
      ],
      "execution_count": 5,
      "outputs": [
        {
          "output_type": "stream",
          "text": [
            "['first citize', 'n:\\nbefore we', ' proceed any', ' further, he', 'ar me speak.']\n"
          ],
          "name": "stdout"
        }
      ]
    },
    {
      "cell_type": "code",
      "metadata": {
        "id": "TVPg_sg5f0Ua",
        "colab_type": "code",
        "colab": {
          "base_uri": "https://localhost:8080/",
          "height": 35
        },
        "outputId": "a2cbce96-c594-4a76-b151-19c376ceb572"
      },
      "source": [
        "print(\"Total Sequences: \",len(sequences))"
      ],
      "execution_count": 6,
      "outputs": [
        {
          "output_type": "stream",
          "text": [
            "Total Sequences:  92949\n"
          ],
          "name": "stdout"
        }
      ]
    },
    {
      "cell_type": "code",
      "metadata": {
        "id": "zV9Te7mLgGiR",
        "colab_type": "code",
        "colab": {
          "base_uri": "https://localhost:8080/",
          "height": 55
        },
        "outputId": "3e7a33b6-26c2-4e0f-f798-59b3a24cced4"
      },
      "source": [
        "enc_lines = []\n",
        "for line in sequences:\n",
        "  enc_line = [char2idx[ch] for ch in line]\n",
        "  enc_lines.append(enc_line)\n",
        "print(\"Encoded Lines:\", enc_lines[:5])"
      ],
      "execution_count": 7,
      "outputs": [
        {
          "output_type": "stream",
          "text": [
            "Encoded Lines: [[34, 0, 20, 14, 9, 32, 11, 0, 9, 0, 31, 1], [16, 10, 17, 6, 1, 34, 23, 20, 1, 32, 3, 1], [32, 5, 20, 23, 11, 1, 1, 21, 32, 29, 16, 36], [32, 34, 22, 20, 9, 28, 1, 20, 33, 32, 28, 1], [29, 20, 32, 7, 1, 32, 14, 5, 1, 29, 35, 12]]\n"
          ],
          "name": "stdout"
        }
      ]
    },
    {
      "cell_type": "code",
      "metadata": {
        "id": "kqF4sAQigqyC",
        "colab_type": "code",
        "colab": {
          "base_uri": "https://localhost:8080/",
          "height": 35
        },
        "outputId": "1e077b0d-f2f7-4cb8-f341-ed277306f2a9"
      },
      "source": [
        "from numpy import array\n",
        "import keras\n",
        "from pickle import dump"
      ],
      "execution_count": 8,
      "outputs": [
        {
          "output_type": "stream",
          "text": [
            "Using TensorFlow backend.\n"
          ],
          "name": "stderr"
        }
      ]
    },
    {
      "cell_type": "code",
      "metadata": {
        "id": "OH_YkWfJg68R",
        "colab_type": "code",
        "colab": {
          "base_uri": "https://localhost:8080/",
          "height": 35
        },
        "outputId": "890e29ad-30b5-4472-8a40-38e866eed3ca"
      },
      "source": [
        "enc_lines_np = np.array(enc_lines)\n",
        "X,Y = enc_lines_np[:,:-1], enc_lines_np[:,-1]\n",
        "\n",
        "print(X[0], Y[0])"
      ],
      "execution_count": 16,
      "outputs": [
        {
          "output_type": "stream",
          "text": [
            "[34  0 20 14  9 32 11  0  9  0 31] 1\n"
          ],
          "name": "stdout"
        }
      ]
    },
    {
      "cell_type": "code",
      "metadata": {
        "id": "6WcmdsaThWJ5",
        "colab_type": "code",
        "colab": {}
      },
      "source": [
        "from keras.utils import to_categorical"
      ],
      "execution_count": 0,
      "outputs": []
    },
    {
      "cell_type": "code",
      "metadata": {
        "id": "UGE1-JkJh7Pz",
        "colab_type": "code",
        "colab": {
          "base_uri": "https://localhost:8080/",
          "height": 35
        },
        "outputId": "c19a50b6-d026-414c-a8a5-010b4d2dac07"
      },
      "source": [
        "# convert to one-hot encoded format\n",
        "seqs = []\n",
        "for i in range((X.shape[0])):\n",
        "  line = X[i]\n",
        "  one_hot = [to_categorical(x, num_classes=vocab_size) for x in line]\n",
        "  seqs.append(one_hot)\n",
        "\n",
        "X = np.array(seqs)\n",
        "print(X.shape)"
      ],
      "execution_count": 17,
      "outputs": [
        {
          "output_type": "stream",
          "text": [
            "(92949, 11, 39)\n"
          ],
          "name": "stdout"
        }
      ]
    },
    {
      "cell_type": "code",
      "metadata": {
        "id": "rgrL_sRtifcZ",
        "colab_type": "code",
        "colab": {
          "base_uri": "https://localhost:8080/",
          "height": 35
        },
        "outputId": "dbeb59f9-b0a0-48d1-9b27-9eabff1871fa"
      },
      "source": [
        "Y = to_categorical(Y, num_classes = vocab_size )\n",
        "print(Y.shape)"
      ],
      "execution_count": 18,
      "outputs": [
        {
          "output_type": "stream",
          "text": [
            "(92949, 39)\n"
          ],
          "name": "stdout"
        }
      ]
    },
    {
      "cell_type": "code",
      "metadata": {
        "id": "_zJJ4Wi6kDNR",
        "colab_type": "code",
        "colab": {
          "base_uri": "https://localhost:8080/",
          "height": 235
        },
        "outputId": "c2706680-f023-4188-a957-1d4aa4c37ede"
      },
      "source": [
        "model = keras.Sequential()\n",
        "model.add(keras.layers.LSTM(\n",
        "    75, input_shape = (X.shape[1], X.shape[2])\n",
        "))\n",
        "model.add(keras.layers.Dense(vocab_size, activation='softmax'))\n",
        "model.compile(loss='categorical_crossentropy', optimizer='adam', metrics=['accuracy'])\n",
        "model.summary()"
      ],
      "execution_count": 19,
      "outputs": [
        {
          "output_type": "stream",
          "text": [
            "Model: \"sequential_1\"\n",
            "_________________________________________________________________\n",
            "Layer (type)                 Output Shape              Param #   \n",
            "=================================================================\n",
            "lstm_1 (LSTM)                (None, 75)                34500     \n",
            "_________________________________________________________________\n",
            "dense_1 (Dense)              (None, 39)                2964      \n",
            "=================================================================\n",
            "Total params: 37,464\n",
            "Trainable params: 37,464\n",
            "Non-trainable params: 0\n",
            "_________________________________________________________________\n"
          ],
          "name": "stdout"
        }
      ]
    },
    {
      "cell_type": "code",
      "metadata": {
        "id": "VKlnFGC0kljY",
        "colab_type": "code",
        "colab": {
          "base_uri": "https://localhost:8080/",
          "height": 871
        },
        "outputId": "7aebfd6f-6632-47f7-b20b-30ae5e04eee2"
      },
      "source": [
        "history = model.fit(X,Y, epochs = 100, verbose = 2) "
      ],
      "execution_count": 0,
      "outputs": [
        {
          "output_type": "stream",
          "text": [
            "Epoch 1/100\n",
            " - 25s - loss: 1.1705 - accuracy: 0.6334\n",
            "Epoch 2/100\n",
            " - 25s - loss: 1.1684 - accuracy: 0.6332\n",
            "Epoch 3/100\n",
            " - 26s - loss: 1.1686 - accuracy: 0.6342\n",
            "Epoch 4/100\n",
            " - 26s - loss: 1.1666 - accuracy: 0.6346\n",
            "Epoch 5/100\n",
            " - 25s - loss: 1.1653 - accuracy: 0.6347\n",
            "Epoch 6/100\n",
            " - 26s - loss: 1.1644 - accuracy: 0.6346\n",
            "Epoch 7/100\n",
            " - 27s - loss: 1.1626 - accuracy: 0.6350\n",
            "Epoch 8/100\n",
            " - 25s - loss: 1.1608 - accuracy: 0.6365\n",
            "Epoch 9/100\n",
            " - 25s - loss: 1.1610 - accuracy: 0.6357\n",
            "Epoch 10/100\n",
            " - 25s - loss: 1.1582 - accuracy: 0.6369\n",
            "Epoch 11/100\n",
            " - 26s - loss: 1.1573 - accuracy: 0.6373\n",
            "Epoch 12/100\n",
            " - 26s - loss: 1.1578 - accuracy: 0.6360\n",
            "Epoch 13/100\n",
            " - 25s - loss: 1.1549 - accuracy: 0.6390\n",
            "Epoch 14/100\n",
            " - 25s - loss: 1.1550 - accuracy: 0.6374\n",
            "Epoch 15/100\n",
            " - 26s - loss: 1.1533 - accuracy: 0.6381\n",
            "Epoch 16/100\n",
            " - 25s - loss: 1.1526 - accuracy: 0.6387\n",
            "Epoch 17/100\n",
            " - 25s - loss: 1.1517 - accuracy: 0.6379\n",
            "Epoch 18/100\n",
            " - 25s - loss: 1.1514 - accuracy: 0.6385\n",
            "Epoch 19/100\n",
            " - 27s - loss: 1.1489 - accuracy: 0.6388\n",
            "Epoch 20/100\n",
            " - 26s - loss: 1.1480 - accuracy: 0.6404\n",
            "Epoch 21/100\n",
            " - 26s - loss: 1.1467 - accuracy: 0.6408\n",
            "Epoch 22/100\n",
            " - 25s - loss: 1.1465 - accuracy: 0.6395\n",
            "Epoch 23/100\n",
            " - 26s - loss: 1.1439 - accuracy: 0.6416\n",
            "Epoch 24/100\n"
          ],
          "name": "stdout"
        }
      ]
    },
    {
      "cell_type": "code",
      "metadata": {
        "id": "nPJCC4s-k-QB",
        "colab_type": "code",
        "colab": {
          "base_uri": "https://localhost:8080/",
          "height": 295
        },
        "outputId": "4395e164-4958-40e3-a95e-0511a5e78d8f"
      },
      "source": [
        "import matplotlib.pyplot as plt\n",
        "plt.plot(history.history['accuracy'])\n",
        "plt.title('Model accuracy')\n",
        "plt.ylabel('Accuracy')\n",
        "plt.xlabel('Epoch')\n",
        "plt.show()"
      ],
      "execution_count": 24,
      "outputs": [
        {
          "output_type": "display_data",
          "data": {
            "image/png": "[encoded data removed]",
            "text/plain": [
              "<Figure size 432x288 with 1 Axes>"
            ]
          },
          "metadata": {
            "tags": [],
            "needs_background": "light"
          }
        }
      ]
    },
    {
      "cell_type": "code",
      "metadata": {
        "id": "QYxA_iSUkudv",
        "colab_type": "code",
        "colab": {}
      },
      "source": [
        "  model.save('model.h5')\n",
        "  dump(char2idx, open('mapping.pkl','wb'))"
      ],
      "execution_count": 0,
      "outputs": []
    },
    {
      "cell_type": "code",
      "metadata": {
        "id": "rUYCLfwxlKhQ",
        "colab_type": "code",
        "colab": {}
      },
      "source": [
        "import keras\n",
        "# Generate characters\n",
        "\n",
        "def generate_seq(model, mapping,n_chars, seq_length = 12, seed_text='the'):\n",
        "  in_text = seed_text\n",
        "  # generate fixed number of chars\n",
        "  for _ in range(n_chars):\n",
        "    # encode chars as int\n",
        "    encoded = [mapping[ch] for ch in in_text]\n",
        "    encoded = keras.preprocessing.sequence.pad_sequences(\n",
        "        [encoded], maxlen=seq_length, truncating='pre'\n",
        "    )\n",
        "    # one-hot\n",
        "    encoded = np.array([to_categorical(x, num_classes=len(mapping)) for x in encoded])\n",
        "    # preedict char\n",
        "    y = model.predict_classes(encoded, verbose=0)\n",
        "    out_char = ''\n",
        "    for char, index in mapping.items():\n",
        "      if index == y:\n",
        "        out_char = char\n",
        "        break\n",
        "    in_text += out_char\n",
        "  return in_text"
      ],
      "execution_count": 0,
      "outputs": []
    },
    {
      "cell_type": "code",
      "metadata": {
        "id": "Ss2AFB0undWX",
        "colab_type": "code",
        "colab": {
          "base_uri": "https://localhost:8080/",
          "height": 235
        },
        "outputId": "c4c6b0fd-925f-4cb8-951c-8fcccc50e3e2"
      },
      "source": [
        "print(generate_seq(model, char2idx, 70, 11, 'from faiest' ))\n",
        "print(generate_seq(model, char2idx, 70, 11, 'making a famine'))\n",
        "print(generate_seq(model, char2idx, 70, 11, 'hello worl'))"
      ],
      "execution_count": 43,
      "outputs": [
        {
          "output_type": "stream",
          "text": [
            "from faiesters he should i says, the wid the trump: you have not but there shall \n",
            "making a famines.\n",
            "\n",
            "autolli:\n",
            "nleit redame\n",
            "for have not knee here?\n",
            "\n",
            "for helvold you are\n",
            "hello worle hand shopl has mother.\n",
            "\n",
            "king richard iii:\n",
            "then mend them. there east\n"
          ],
          "name": "stdout"
        }
      ]
    }
  ]
}
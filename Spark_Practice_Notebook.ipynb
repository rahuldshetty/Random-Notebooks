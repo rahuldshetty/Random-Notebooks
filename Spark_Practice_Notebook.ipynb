{
  "nbformat": 4,
  "nbformat_minor": 0,
  "metadata": {
    "colab": {
      "name": "Spark Practice Notebook.ipynb",
      "provenance": []
    },
    "kernelspec": {
      "name": "python3",
      "display_name": "Python 3"
    }
  },
  "cells": [
    {
      "cell_type": "code",
      "metadata": {
        "id": "bTFZV51blLjo",
        "colab_type": "code",
        "colab": {}
      },
      "source": [
        "# Setup Spark Env\n",
        "!apt-get install openjdk-8-jdk-headless -qq > /dev/null\n",
        "!wget -q http://apachemirror.wuchna.com/spark/spark-2.4.7/spark-2.4.7-bin-hadoop2.7.tgz\n",
        "!tar xf spark-2.4.7-bin-hadoop2.7.tgz\n",
        "!pip install -q findspark\n",
        "import os\n",
        "os.environ[\"JAVA_HOME\"] = \"/usr/lib/jvm/java-8-openjdk-amd64\"\n",
        "os.environ[\"SPARK_HOME\"] = \"/content/spark-2.4.7-bin-hadoop2.7\"\n",
        "import findspark\n",
        "findspark.init()"
      ],
      "execution_count": 2,
      "outputs": []
    },
    {
      "cell_type": "code",
      "metadata": {
        "id": "E2M7dmjxlS6P",
        "colab_type": "code",
        "colab": {}
      },
      "source": [
        "# Initialize a Spark Application in which all the code for that Session will run on\n",
        "from pyspark.sql import SparkSession\n",
        "spark = SparkSession.builder \\\n",
        "    .master(\"local[*]\") \\\n",
        "    .appName(\"Learning_Spark\") \\\n",
        "    .getOrCreate()"
      ],
      "execution_count": 3,
      "outputs": []
    },
    {
      "cell_type": "code",
      "metadata": {
        "id": "7KPhPwabqUvS",
        "colab_type": "code",
        "colab": {}
      },
      "source": [
        "# Download the dataset from here https://www.kaggle.com/gregorut/videogamesales"
      ],
      "execution_count": 6,
      "outputs": []
    },
    {
      "cell_type": "code",
      "metadata": {
        "id": "furinRkSqzpi",
        "colab_type": "code",
        "colab": {}
      },
      "source": [
        "# reading CSV files into a DataFrame\n",
        "data = spark.read.csv('vgsales.csv',inferSchema=True, header=True)"
      ],
      "execution_count": 7,
      "outputs": []
    },
    {
      "cell_type": "markdown",
      "metadata": {
        "id": "s6kPaNrFrAV0",
        "colab_type": "text"
      },
      "source": [
        "**Data Exploration**"
      ]
    },
    {
      "cell_type": "code",
      "metadata": {
        "id": "SXzxRKrhq2jj",
        "colab_type": "code",
        "colab": {
          "base_uri": "https://localhost:8080/",
          "height": 35
        },
        "outputId": "fe2b375b-b293-45a0-da7c-ef9a5b607136"
      },
      "source": [
        "data.count(), len(data.columns)"
      ],
      "execution_count": 8,
      "outputs": [
        {
          "output_type": "execute_result",
          "data": {
            "text/plain": [
              "(16598, 11)"
            ]
          },
          "metadata": {
            "tags": []
          },
          "execution_count": 8
        }
      ]
    },
    {
      "cell_type": "code",
      "metadata": {
        "id": "IkBmipqjrEfC",
        "colab_type": "code",
        "colab": {
          "base_uri": "https://localhost:8080/",
          "height": 237
        },
        "outputId": "742f9ebd-ae67-45a5-e6ca-d8d33a8d99c6"
      },
      "source": [
        "data.show(5)"
      ],
      "execution_count": 9,
      "outputs": [
        {
          "output_type": "stream",
          "text": [
            "+----+--------------------+--------+----+------------+---------+--------+--------+--------+-----------+------------+\n",
            "|Rank|                Name|Platform|Year|       Genre|Publisher|NA_Sales|EU_Sales|JP_Sales|Other_Sales|Global_Sales|\n",
            "+----+--------------------+--------+----+------------+---------+--------+--------+--------+-----------+------------+\n",
            "|   1|          Wii Sports|     Wii|2006|      Sports| Nintendo|   41.49|   29.02|    3.77|       8.46|       82.74|\n",
            "|   2|   Super Mario Bros.|     NES|1985|    Platform| Nintendo|   29.08|    3.58|    6.81|       0.77|       40.24|\n",
            "|   3|      Mario Kart Wii|     Wii|2008|      Racing| Nintendo|   15.85|   12.88|    3.79|       3.31|       35.82|\n",
            "|   4|   Wii Sports Resort|     Wii|2009|      Sports| Nintendo|   15.75|   11.01|    3.28|       2.96|        33.0|\n",
            "|   5|Pokemon Red/Pokem...|      GB|1996|Role-Playing| Nintendo|   11.27|    8.89|   10.22|        1.0|       31.37|\n",
            "+----+--------------------+--------+----+------------+---------+--------+--------+--------+-----------+------------+\n",
            "only showing top 5 rows\n",
            "\n"
          ],
          "name": "stdout"
        }
      ]
    },
    {
      "cell_type": "code",
      "metadata": {
        "id": "zktFnMdprXDC",
        "colab_type": "code",
        "colab": {
          "base_uri": "https://localhost:8080/",
          "height": 253
        },
        "outputId": "c1dcfe52-92f3-4fe4-e2a7-f7bbda7630b3"
      },
      "source": [
        "data.printSchema()"
      ],
      "execution_count": 10,
      "outputs": [
        {
          "output_type": "stream",
          "text": [
            "root\n",
            " |-- Rank: integer (nullable = true)\n",
            " |-- Name: string (nullable = true)\n",
            " |-- Platform: string (nullable = true)\n",
            " |-- Year: string (nullable = true)\n",
            " |-- Genre: string (nullable = true)\n",
            " |-- Publisher: string (nullable = true)\n",
            " |-- NA_Sales: double (nullable = true)\n",
            " |-- EU_Sales: double (nullable = true)\n",
            " |-- JP_Sales: double (nullable = true)\n",
            " |-- Other_Sales: double (nullable = true)\n",
            " |-- Global_Sales: double (nullable = true)\n",
            "\n"
          ],
          "name": "stdout"
        }
      ]
    },
    {
      "cell_type": "code",
      "metadata": {
        "id": "jods-O9trb_L",
        "colab_type": "code",
        "colab": {
          "base_uri": "https://localhost:8080/",
          "height": 399
        },
        "outputId": "eb9c0837-7314-4b83-8f0f-d1d25fb5e84c"
      },
      "source": [
        "data.select(\"Name\",\"Platform\",\"Year\",\"Global_Sales\") \\\n",
        ".show(15, truncate=False)"
      ],
      "execution_count": 12,
      "outputs": [
        {
          "output_type": "stream",
          "text": [
            "+---------------------------+--------+----+------------+\n",
            "|Name                       |Platform|Year|Global_Sales|\n",
            "+---------------------------+--------+----+------------+\n",
            "|Wii Sports                 |Wii     |2006|82.74       |\n",
            "|Super Mario Bros.          |NES     |1985|40.24       |\n",
            "|Mario Kart Wii             |Wii     |2008|35.82       |\n",
            "|Wii Sports Resort          |Wii     |2009|33.0        |\n",
            "|Pokemon Red/Pokemon Blue   |GB      |1996|31.37       |\n",
            "|Tetris                     |GB      |1989|30.26       |\n",
            "|New Super Mario Bros.      |DS      |2006|30.01       |\n",
            "|Wii Play                   |Wii     |2006|29.02       |\n",
            "|New Super Mario Bros. Wii  |Wii     |2009|28.62       |\n",
            "|Duck Hunt                  |NES     |1984|28.31       |\n",
            "|Nintendogs                 |DS      |2005|24.76       |\n",
            "|Mario Kart DS              |DS      |2005|23.42       |\n",
            "|Pokemon Gold/Pokemon Silver|GB      |1999|23.1        |\n",
            "|Wii Fit                    |Wii     |2007|22.72       |\n",
            "|Wii Fit Plus               |Wii     |2009|22.0        |\n",
            "+---------------------------+--------+----+------------+\n",
            "only showing top 15 rows\n",
            "\n"
          ],
          "name": "stdout"
        }
      ]
    },
    {
      "cell_type": "code",
      "metadata": {
        "id": "vHUGnHJ4sOkj",
        "colab_type": "code",
        "colab": {
          "base_uri": "https://localhost:8080/",
          "height": 199
        },
        "outputId": "ba493ae2-17a0-461b-d24e-699fcdaab881"
      },
      "source": [
        "data.describe([\"Platform\",\"Global_Sales\"]).show()"
      ],
      "execution_count": 13,
      "outputs": [
        {
          "output_type": "stream",
          "text": [
            "+-------+--------+------------------+\n",
            "|summary|Platform|      Global_Sales|\n",
            "+-------+--------+------------------+\n",
            "|  count|   16598|             16598|\n",
            "|   mean|  2600.0|  0.53744065550074|\n",
            "| stddev|     0.0|1.5550279355699066|\n",
            "|    min|    2600|              0.01|\n",
            "|    max|    XOne|             82.74|\n",
            "+-------+--------+------------------+\n",
            "\n"
          ],
          "name": "stdout"
        }
      ]
    },
    {
      "cell_type": "code",
      "metadata": {
        "id": "kL47Ln_luyXp",
        "colab_type": "code",
        "colab": {
          "base_uri": "https://localhost:8080/",
          "height": 308
        },
        "outputId": "05edae41-b723-4482-c4c2-63fdaf05c711"
      },
      "source": [
        "data.groupBy(\"Platform\") \\\n",
        ".count() \\\n",
        ".orderBy(\"count\", ascending=False) \\\n",
        ".show(10)"
      ],
      "execution_count": 14,
      "outputs": [
        {
          "output_type": "stream",
          "text": [
            "+--------+-----+\n",
            "|Platform|count|\n",
            "+--------+-----+\n",
            "|      DS| 2163|\n",
            "|     PS2| 2161|\n",
            "|     PS3| 1329|\n",
            "|     Wii| 1325|\n",
            "|    X360| 1265|\n",
            "|     PSP| 1213|\n",
            "|      PS| 1196|\n",
            "|      PC|  960|\n",
            "|      XB|  824|\n",
            "|     GBA|  822|\n",
            "+--------+-----+\n",
            "only showing top 10 rows\n",
            "\n"
          ],
          "name": "stdout"
        }
      ]
    },
    {
      "cell_type": "code",
      "metadata": {
        "id": "NSdoNhHhvcej",
        "colab_type": "code",
        "colab": {}
      },
      "source": [
        "from pyspark.sql.types import DoubleType"
      ],
      "execution_count": 15,
      "outputs": []
    },
    {
      "cell_type": "code",
      "metadata": {
        "id": "756-viFswz66",
        "colab_type": "code",
        "colab": {}
      },
      "source": [
        "data = data.withColumn(\"Year\", data[\"Year\"].cast(DoubleType()))\n",
        "data = data.withColumn(\"Global_Sales\", data[\"Global_Sales\"].cast(DoubleType()))\n",
        "data = data.withColumn(\"Rank\", data[\"Rank\"].cast(DoubleType()))"
      ],
      "execution_count": 31,
      "outputs": []
    },
    {
      "cell_type": "code",
      "metadata": {
        "id": "hX7ZfJw4xWTp",
        "colab_type": "code",
        "colab": {}
      },
      "source": [
        "from pyspark.ml.feature import VectorAssembler\n"
      ],
      "execution_count": 32,
      "outputs": []
    },
    {
      "cell_type": "code",
      "metadata": {
        "id": "Z4kqVBEaxYCS",
        "colab_type": "code",
        "colab": {}
      },
      "source": [
        "inputcols = [\"Year\", \"Rank\", \"Other_Sales\"]\n",
        "assembler = VectorAssembler(inputCols= inputcols,outputCol = \"predictors\")"
      ],
      "execution_count": 33,
      "outputs": []
    },
    {
      "cell_type": "code",
      "metadata": {
        "id": "sZ4nYvd6xr7F",
        "colab_type": "code",
        "colab": {
          "base_uri": "https://localhost:8080/",
          "height": 235
        },
        "outputId": "8fdf55c2-be42-441d-fcfd-560a5d6aeef0"
      },
      "source": [
        "predictors = assembler.transform(data)\n",
        "predictors.columns"
      ],
      "execution_count": 34,
      "outputs": [
        {
          "output_type": "execute_result",
          "data": {
            "text/plain": [
              "['Rank',\n",
              " 'Name',\n",
              " 'Platform',\n",
              " 'Year',\n",
              " 'Genre',\n",
              " 'Publisher',\n",
              " 'NA_Sales',\n",
              " 'EU_Sales',\n",
              " 'JP_Sales',\n",
              " 'Other_Sales',\n",
              " 'Global_Sales',\n",
              " 'predictors']"
            ]
          },
          "metadata": {
            "tags": []
          },
          "execution_count": 34
        }
      ]
    },
    {
      "cell_type": "code",
      "metadata": {
        "id": "kHlNxf1Xxuuq",
        "colab_type": "code",
        "colab": {
          "base_uri": "https://localhost:8080/",
          "height": 217
        },
        "outputId": "ff298e84-a73e-45a3-b75b-7a99b6d9b95b"
      },
      "source": [
        "model_data = predictors.select(\"predictors\", \"Global_Sales\")\n",
        "model_data.show(5,truncate=False)"
      ],
      "execution_count": 35,
      "outputs": [
        {
          "output_type": "stream",
          "text": [
            "+-----------------+------------+\n",
            "|predictors       |Global_Sales|\n",
            "+-----------------+------------+\n",
            "|[2006.0,1.0,8.46]|82.74       |\n",
            "|[1985.0,2.0,0.77]|40.24       |\n",
            "|[2008.0,3.0,3.31]|35.82       |\n",
            "|[2009.0,4.0,2.96]|33.0        |\n",
            "|[1996.0,5.0,1.0] |31.37       |\n",
            "+-----------------+------------+\n",
            "only showing top 5 rows\n",
            "\n"
          ],
          "name": "stdout"
        }
      ]
    },
    {
      "cell_type": "code",
      "metadata": {
        "id": "9vs3eMSKx44D",
        "colab_type": "code",
        "colab": {}
      },
      "source": [
        "train_data,test_data = model_data.randomSplit([0.8,0.2])"
      ],
      "execution_count": 54,
      "outputs": []
    },
    {
      "cell_type": "code",
      "metadata": {
        "id": "fWz6KeXsx7qq",
        "colab_type": "code",
        "colab": {}
      },
      "source": [
        "from pyspark.ml.regression import LinearRegression\n",
        "from pyspark.ml.linalg import Vectors"
      ],
      "execution_count": 59,
      "outputs": []
    },
    {
      "cell_type": "code",
      "metadata": {
        "id": "3xAL-D9g01uq",
        "colab_type": "code",
        "colab": {}
      },
      "source": [
        "# Prepare training data from a list of (label, features) tuples.\n",
        "\n",
        "training = spark.createDataFrame([\n",
        "    (1.0, Vectors.dense([0.0, 1.1, 0.1])),\n",
        "    (0.0, Vectors.dense([2.0, 1.0, -1.0])),\n",
        "    (0.0, Vectors.dense([2.0, 1.3, 1.0])),\n",
        "    (1.0, Vectors.dense([0.0, 1.2, -0.5]))], [\"label\", \"features\"])"
      ],
      "execution_count": 60,
      "outputs": []
    },
    {
      "cell_type": "code",
      "metadata": {
        "id": "rblrajwqx9EB",
        "colab_type": "code",
        "colab": {}
      },
      "source": [
        "lr = LinearRegression(maxIter=10, regParam=0.01)"
      ],
      "execution_count": 62,
      "outputs": []
    },
    {
      "cell_type": "code",
      "metadata": {
        "id": "3WH_-PP2yB5K",
        "colab_type": "code",
        "colab": {}
      },
      "source": [
        "model1 = lr.fit(training)"
      ],
      "execution_count": 63,
      "outputs": []
    },
    {
      "cell_type": "code",
      "metadata": {
        "id": "92Di31CD1Gu5",
        "colab_type": "code",
        "colab": {}
      },
      "source": [
        "# Prepare test data\n",
        "test = spark.createDataFrame([\n",
        "    (1.0, Vectors.dense([0.0, 1.1, 0.1])),\n",
        "    (0.0, Vectors.dense([2.0, 1.0, -1.0])),\n",
        "    (0.0, Vectors.dense([2.0, 1.3, 1.0])),\n",
        "    (1.0, Vectors.dense([0.0, 1.2, -0.5]))], [\"label\", \"features\"])"
      ],
      "execution_count": 70,
      "outputs": []
    },
    {
      "cell_type": "code",
      "metadata": {
        "id": "Q0sfXUJWyEGx",
        "colab_type": "code",
        "colab": {}
      },
      "source": [
        "prediction = model1.transform(test)"
      ],
      "execution_count": 71,
      "outputs": []
    },
    {
      "cell_type": "code",
      "metadata": {
        "id": "Wi5urP9i1cDq",
        "colab_type": "code",
        "colab": {}
      },
      "source": [
        "result = prediction.select(\"features\", \"label\", \"prediction\").collect()"
      ],
      "execution_count": 73,
      "outputs": []
    },
    {
      "cell_type": "code",
      "metadata": {
        "id": "yR0iUc4X1egY",
        "colab_type": "code",
        "colab": {
          "base_uri": "https://localhost:8080/",
          "height": 90
        },
        "outputId": "6364ed58-e83f-4bae-a2cb-0bedcbeabe4c"
      },
      "source": [
        "for row in result:\n",
        "    print(\"features=%s, label=%s -> prediction=%s\"\n",
        "          % (row.features, row.label, row.prediction))"
      ],
      "execution_count": 74,
      "outputs": [
        {
          "output_type": "stream",
          "text": [
            "features=[0.0,1.1,0.1], label=1.0 -> prediction=0.9874228695233253\n",
            "features=[2.0,1.0,-1.0], label=0.0 -> prediction=0.010808847444715441\n",
            "features=[2.0,1.3,1.0], label=0.0 -> prediction=0.008779670194922096\n",
            "features=[0.0,1.2,-0.5], label=1.0 -> prediction=0.9929886128370375\n"
          ],
          "name": "stdout"
        }
      ]
    }
  ]
}
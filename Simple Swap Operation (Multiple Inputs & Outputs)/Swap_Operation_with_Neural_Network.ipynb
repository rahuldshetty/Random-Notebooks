{
  "nbformat": 4,
  "nbformat_minor": 0,
  "metadata": {
    "colab": {
      "name": "Swap Operation with Neural Network.ipynb",
      "provenance": []
    },
    "kernelspec": {
      "name": "python3",
      "display_name": "Python 3"
    }
  },
  "cells": [
    {
      "cell_type": "markdown",
      "metadata": {
        "id": "4-e8bOxsNb-A",
        "colab_type": "text"
      },
      "source": [
        "**Multiple Input - Single Output Network**"
      ]
    },
    {
      "cell_type": "code",
      "metadata": {
        "id": "Qm7YgTSVJ7Dl",
        "colab_type": "code",
        "colab": {}
      },
      "source": [
        "import numpy as np\n",
        "import tensorflow as tf\n",
        "\n",
        "from tensorflow import keras\n",
        "from tensorflow.keras import layers\n",
        "\n",
        "\n",
        "tf.__version__\n",
        "tf.keras.backend.clear_session()"
      ],
      "execution_count": 0,
      "outputs": []
    },
    {
      "cell_type": "markdown",
      "metadata": {
        "id": "sMd6GmHmKdYb",
        "colab_type": "text"
      },
      "source": [
        "We will implement a simple neural network that takes in two parameters and swaps the value in the output."
      ]
    },
    {
      "cell_type": "code",
      "metadata": {
        "id": "DlajtNcDKvCe",
        "colab_type": "code",
        "colab": {
          "base_uri": "https://localhost:8080/",
          "height": 35
        },
        "outputId": "27864eaa-600c-40d5-ae38-d07f2f8790f8"
      },
      "source": [
        "import random\n",
        "# prepare dataset\n",
        "size = 100000\n",
        "dataset = np.array([ [random.randint(1,10000), random.randint(1,10000)] for _ in range(size)  ]).astype('uint8')\n",
        "print(dataset.shape)"
      ],
      "execution_count": 40,
      "outputs": [
        {
          "output_type": "stream",
          "text": [
            "(100000, 2)\n"
          ],
          "name": "stdout"
        }
      ]
    },
    {
      "cell_type": "markdown",
      "metadata": {
        "id": "fGpqMlv7NbOV",
        "colab_type": "text"
      },
      "source": [
        ""
      ]
    },
    {
      "cell_type": "code",
      "metadata": {
        "id": "4BRCrVJZKcL9",
        "colab_type": "code",
        "colab": {
          "base_uri": "https://localhost:8080/",
          "height": 326
        },
        "outputId": "15c38e1c-3383-4233-b369-4d2e1aab3322"
      },
      "source": [
        "# Define the 2 seperate Input units for the model\n",
        "x1 = keras.Input(shape=(1,))\n",
        "x2 = keras.Input(shape=(1,))\n",
        "\n",
        "# A single layer with 2 neurons\n",
        "dense = layers.Dense(2)\n",
        "output = dense( layers.Concatenate()([x1, x2]) )\n",
        "model = keras.Model([x1, x2], output, name='swap_model')\n",
        "model.summary()"
      ],
      "execution_count": 41,
      "outputs": [
        {
          "output_type": "stream",
          "text": [
            "Model: \"swap_model\"\n",
            "__________________________________________________________________________________________________\n",
            "Layer (type)                    Output Shape         Param #     Connected to                     \n",
            "==================================================================================================\n",
            "input_1 (InputLayer)            [(None, 1)]          0                                            \n",
            "__________________________________________________________________________________________________\n",
            "input_2 (InputLayer)            [(None, 1)]          0                                            \n",
            "__________________________________________________________________________________________________\n",
            "concatenate (Concatenate)       (None, 2)            0           input_1[0][0]                    \n",
            "                                                                 input_2[0][0]                    \n",
            "__________________________________________________________________________________________________\n",
            "dense (Dense)                   (None, 2)            6           concatenate[0][0]                \n",
            "==================================================================================================\n",
            "Total params: 6\n",
            "Trainable params: 6\n",
            "Non-trainable params: 0\n",
            "__________________________________________________________________________________________________\n"
          ],
          "name": "stdout"
        }
      ]
    },
    {
      "cell_type": "code",
      "metadata": {
        "id": "w4PtDEIKLo52",
        "colab_type": "code",
        "colab": {}
      },
      "source": [
        "model.compile(loss='mse', optimizer='adam')"
      ],
      "execution_count": 0,
      "outputs": []
    },
    {
      "cell_type": "code",
      "metadata": {
        "id": "4zJb0zbjMFxN",
        "colab_type": "code",
        "colab": {
          "base_uri": "https://localhost:8080/",
          "height": 380
        },
        "outputId": "6615a6ea-f1e4-4c14-bc7a-f1da84e67be1"
      },
      "source": [
        "history = model.fit([dataset[:,0], dataset[:,1] ], np.flip(dataset, 1), epochs = 10 )"
      ],
      "execution_count": 43,
      "outputs": [
        {
          "output_type": "stream",
          "text": [
            "Epoch 1/10\n",
            "3125/3125 [==============================] - 3s 1ms/step - loss: 21214.0977\n",
            "Epoch 2/10\n",
            "3125/3125 [==============================] - 3s 956us/step - loss: 212.3409\n",
            "Epoch 3/10\n",
            "3125/3125 [==============================] - 3s 981us/step - loss: 0.3210\n",
            "Epoch 4/10\n",
            "3125/3125 [==============================] - 3s 989us/step - loss: 0.1596\n",
            "Epoch 5/10\n",
            "3125/3125 [==============================] - 3s 998us/step - loss: 0.0343\n",
            "Epoch 6/10\n",
            "3125/3125 [==============================] - 3s 955us/step - loss: 6.5637e-04\n",
            "Epoch 7/10\n",
            "3125/3125 [==============================] - 3s 985us/step - loss: 1.2820e-05\n",
            "Epoch 8/10\n",
            "3125/3125 [==============================] - 3s 1ms/step - loss: 2.5450e-04\n",
            "Epoch 9/10\n",
            "3125/3125 [==============================] - 3s 1ms/step - loss: 2.0972e-04\n",
            "Epoch 10/10\n",
            "3125/3125 [==============================] - 3s 961us/step - loss: 2.6991e-04\n"
          ],
          "name": "stdout"
        }
      ]
    },
    {
      "cell_type": "code",
      "metadata": {
        "id": "RDtskLpQM-iw",
        "colab_type": "code",
        "colab": {
          "base_uri": "https://localhost:8080/",
          "height": 235
        },
        "outputId": "90df5031-9d4c-4f65-cf27-82c9ab9eb361"
      },
      "source": [
        "def test(model):\n",
        "  sample = np.array([[4, 5],[150000,700],[980,-400],[100,500]])\n",
        "  result = model.predict([sample[:,0], sample[:,1]])\n",
        "  for i in range(sample.shape[0]):\n",
        "    print(\"-\"*15, \"Test\",i,\"-\"*15)\n",
        "    print(\"Expected:\", sample[i])\n",
        "    print(\"Result:\", result[i])\n",
        "\n",
        "test(model)"
      ],
      "execution_count": 44,
      "outputs": [
        {
          "output_type": "stream",
          "text": [
            "--------------- Test 0 ---------------\n",
            "Expected: [4 5]\n",
            "Result: [5.000001  4.0000496]\n",
            "--------------- Test 1 ---------------\n",
            "Expected: [150000    700]\n",
            "Result: [   699.9993 149999.98  ]\n",
            "--------------- Test 2 ---------------\n",
            "Expected: [ 980 -400]\n",
            "Result: [-400.  980.]\n",
            "--------------- Test 3 ---------------\n",
            "Expected: [100 500]\n",
            "Result: [500.       99.99992]\n"
          ],
          "name": "stdout"
        }
      ]
    },
    {
      "cell_type": "markdown",
      "metadata": {
        "id": "-HmUxeUQORy9",
        "colab_type": "text"
      },
      "source": [
        "**Multiple Inputs - Multiple**\n",
        "\n",
        "Now we will use the same dataset and rather than defining the outputs in a same sinlgle layer, we will create 2 seperate neuron units for the output."
      ]
    },
    {
      "cell_type": "code",
      "metadata": {
        "id": "iPHzonwrOI1T",
        "colab_type": "code",
        "colab": {
          "base_uri": "https://localhost:8080/",
          "height": 417
        },
        "outputId": "4ed995b8-1aaf-4f20-9062-3a2166a006d4"
      },
      "source": [
        "# define inputs for the model\n",
        "x1 = keras.Input(shape=(1,))\n",
        "x2 = keras.Input(shape=(1,))\n",
        "\n",
        "#Define outputs for the model\n",
        "o1 = layers.Dense(1)(layers.Concatenate()([x1, x2]))\n",
        "o2 = layers.Dense(1)(layers.Concatenate()([x1, x2]))\n",
        "\n",
        "model2 = keras.Model([x1, x2], [o1, o2], name='swap_model2')\n",
        "model2.summary()"
      ],
      "execution_count": 45,
      "outputs": [
        {
          "output_type": "stream",
          "text": [
            "Model: \"swap_model2\"\n",
            "__________________________________________________________________________________________________\n",
            "Layer (type)                    Output Shape         Param #     Connected to                     \n",
            "==================================================================================================\n",
            "input_3 (InputLayer)            [(None, 1)]          0                                            \n",
            "__________________________________________________________________________________________________\n",
            "input_4 (InputLayer)            [(None, 1)]          0                                            \n",
            "__________________________________________________________________________________________________\n",
            "concatenate_1 (Concatenate)     (None, 2)            0           input_3[0][0]                    \n",
            "                                                                 input_4[0][0]                    \n",
            "__________________________________________________________________________________________________\n",
            "concatenate_2 (Concatenate)     (None, 2)            0           input_3[0][0]                    \n",
            "                                                                 input_4[0][0]                    \n",
            "__________________________________________________________________________________________________\n",
            "dense_1 (Dense)                 (None, 1)            3           concatenate_1[0][0]              \n",
            "__________________________________________________________________________________________________\n",
            "dense_2 (Dense)                 (None, 1)            3           concatenate_2[0][0]              \n",
            "==================================================================================================\n",
            "Total params: 6\n",
            "Trainable params: 6\n",
            "Non-trainable params: 0\n",
            "__________________________________________________________________________________________________\n"
          ],
          "name": "stdout"
        }
      ]
    },
    {
      "cell_type": "code",
      "metadata": {
        "id": "4zzgSAbLQYv1",
        "colab_type": "code",
        "colab": {}
      },
      "source": [
        "model2.compile(loss='mse', optimizer='adam')"
      ],
      "execution_count": 0,
      "outputs": []
    },
    {
      "cell_type": "code",
      "metadata": {
        "id": "4cO238j9Ql78",
        "colab_type": "code",
        "colab": {
          "base_uri": "https://localhost:8080/",
          "height": 380
        },
        "outputId": "f2b10bc5-5e98-4d9c-b6a3-8ffb4fb47619"
      },
      "source": [
        "history2 = model2.fit([dataset[:,0], dataset[:,1] ], [dataset[:,1], dataset[:,0] ], epochs = 10 )"
      ],
      "execution_count": 47,
      "outputs": [
        {
          "output_type": "stream",
          "text": [
            "Epoch 1/10\n",
            "3125/3125 [==============================] - 3s 1ms/step - loss: 2149.4185 - dense_1_loss: 347.2048 - dense_2_loss: 1802.2048\n",
            "Epoch 2/10\n",
            "3125/3125 [==============================] - 3s 1ms/step - loss: 0.0348 - dense_1_loss: 0.0213 - dense_2_loss: 0.0135\n",
            "Epoch 3/10\n",
            "3125/3125 [==============================] - 3s 1ms/step - loss: 0.0085 - dense_1_loss: 0.0042 - dense_2_loss: 0.0043\n",
            "Epoch 4/10\n",
            "3125/3125 [==============================] - 3s 1ms/step - loss: 1.1035e-04 - dense_1_loss: 1.9179e-05 - dense_2_loss: 9.1169e-05\n",
            "Epoch 5/10\n",
            "3125/3125 [==============================] - 3s 1ms/step - loss: 1.2382e-04 - dense_1_loss: 1.2382e-04 - dense_2_loss: 4.6224e-11\n",
            "Epoch 6/10\n",
            "3125/3125 [==============================] - 3s 1ms/step - loss: 8.6509e-04 - dense_1_loss: 3.6710e-04 - dense_2_loss: 4.9800e-04\n",
            "Epoch 7/10\n",
            "3125/3125 [==============================] - 3s 1ms/step - loss: 4.1503e-09 - dense_1_loss: 2.6338e-09 - dense_2_loss: 1.5165e-09\n",
            "Epoch 8/10\n",
            "3125/3125 [==============================] - 3s 1ms/step - loss: 8.1857e-04 - dense_1_loss: 4.9889e-04 - dense_2_loss: 3.1968e-04\n",
            "Epoch 9/10\n",
            "3125/3125 [==============================] - 3s 1ms/step - loss: 4.0994e-04 - dense_1_loss: 3.0811e-14 - dense_2_loss: 4.0994e-04\n",
            "Epoch 10/10\n",
            "3125/3125 [==============================] - 3s 1ms/step - loss: 2.9129e-04 - dense_1_loss: 2.9129e-04 - dense_2_loss: 2.0626e-10\n"
          ],
          "name": "stdout"
        }
      ]
    },
    {
      "cell_type": "code",
      "metadata": {
        "id": "W_VmVibPQyu0",
        "colab_type": "code",
        "colab": {
          "base_uri": "https://localhost:8080/",
          "height": 235
        },
        "outputId": "51e19901-e76e-46b9-a04b-e1b60e0bab39"
      },
      "source": [
        "def test2(model):\n",
        "  sample = np.array([[4, 5],[150000,700],[980,-400],[100,500]])\n",
        "  result = np.array(model.predict([sample[:,0], sample[:,1]]))\n",
        "  for i in range(sample.shape[0]):\n",
        "    print(\"-\"*15, \"Test\",i,\"-\"*15)\n",
        "    print(\"Expected:\", sample[i])\n",
        "    print(\"Result:\", result[0][i], result[1][i])\n",
        "\n",
        "test2(model2)"
      ],
      "execution_count": 48,
      "outputs": [
        {
          "output_type": "stream",
          "text": [
            "--------------- Test 0 ---------------\n",
            "Expected: [4 5]\n",
            "Result: [5.] [4.]\n",
            "--------------- Test 1 ---------------\n",
            "Expected: [150000    700]\n",
            "Result: [699.99994] [150000.]\n",
            "--------------- Test 2 ---------------\n",
            "Expected: [ 980 -400]\n",
            "Result: [-400.] [980.]\n",
            "--------------- Test 3 ---------------\n",
            "Expected: [100 500]\n",
            "Result: [500.] [100.]\n"
          ],
          "name": "stdout"
        }
      ]
    },
    {
      "cell_type": "markdown",
      "metadata": {
        "id": "wFH4Jsd2T63b",
        "colab_type": "text"
      },
      "source": [
        "With the right parameters defined both the models have learnt to swap in the input values as expected. We can also see that the negative values cases also works well. This is because the network has adjusted the cross neuron weights to close 1 and direct weights to 0."
      ]
    },
    {
      "cell_type": "code",
      "metadata": {
        "id": "mQ006zsgUzAn",
        "colab_type": "code",
        "colab": {
          "base_uri": "https://localhost:8080/",
          "height": 290
        },
        "outputId": "61f94431-2224-4d48-c091-313213f5e34f"
      },
      "source": [
        "def print_weights(model, name):\n",
        "  print('Model Weights for', name)\n",
        "  for layer in model.layers:\n",
        "    print(layer.get_weights())\n",
        "\n",
        "print_weights(model, 'MISO')\n",
        "print_weights(model2, 'MIMO')"
      ],
      "execution_count": 49,
      "outputs": [
        {
          "output_type": "stream",
          "text": [
            "Model Weights for MISO\n",
            "[]\n",
            "[]\n",
            "[]\n",
            "[array([[-4.3750941e-09,  9.9999988e-01],\n",
            "       [ 1.0000000e+00, -2.2611368e-07]], dtype=float32), array([7.6796744e-07, 5.1450981e-05], dtype=float32)]\n",
            "Model Weights for MIMO\n",
            "[]\n",
            "[]\n",
            "[]\n",
            "[]\n",
            "[array([[-4.71168e-10],\n",
            "       [ 1.00000e+00]], dtype=float32), array([1.4765602e-07], dtype=float32)]\n",
            "[array([[ 1.0000000e+00],\n",
            "       [-4.5378393e-10]], dtype=float32), array([-9.798864e-08], dtype=float32)]\n"
          ],
          "name": "stdout"
        }
      ]
    }
  ]
}
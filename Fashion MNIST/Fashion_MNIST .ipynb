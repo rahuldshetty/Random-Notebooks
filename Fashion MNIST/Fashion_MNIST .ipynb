{
  "nbformat": 4,
  "nbformat_minor": 0,
  "metadata": {
    "colab": {
      "name": "Fashion MNIST.ipynb",
      "provenance": []
    },
    "kernelspec": {
      "name": "python3",
      "display_name": "Python 3"
    }
  },
  "cells": [
    {
      "cell_type": "code",
      "metadata": {
        "id": "kbcqPVNI35pP"
      },
      "source": [
        "import tensorflow as tf\r\n",
        "import matplotlib.pyplot as plt"
      ],
      "execution_count": 1,
      "outputs": []
    },
    {
      "cell_type": "code",
      "metadata": {
        "colab": {
          "base_uri": "https://localhost:8080/"
        },
        "id": "7FLIjVao39wr",
        "outputId": "4c9a15f1-6dff-4ec5-91af-c8a55ec643ed"
      },
      "source": [
        "data = tf.keras.datasets.fashion_mnist.load_data()"
      ],
      "execution_count": 2,
      "outputs": [
        {
          "output_type": "stream",
          "text": [
            "Downloading data from https://storage.googleapis.com/tensorflow/tf-keras-datasets/train-labels-idx1-ubyte.gz\n",
            "32768/29515 [=================================] - 0s 0us/step\n",
            "Downloading data from https://storage.googleapis.com/tensorflow/tf-keras-datasets/train-images-idx3-ubyte.gz\n",
            "26427392/26421880 [==============================] - 0s 0us/step\n",
            "Downloading data from https://storage.googleapis.com/tensorflow/tf-keras-datasets/t10k-labels-idx1-ubyte.gz\n",
            "8192/5148 [===============================================] - 0s 0us/step\n",
            "Downloading data from https://storage.googleapis.com/tensorflow/tf-keras-datasets/t10k-images-idx3-ubyte.gz\n",
            "4423680/4422102 [==============================] - 0s 0us/step\n"
          ],
          "name": "stdout"
        }
      ]
    },
    {
      "cell_type": "code",
      "metadata": {
        "id": "eGq_FkTp4P6G"
      },
      "source": [
        "(training_images, training_labels), (test_images, test_labels) = data"
      ],
      "execution_count": 3,
      "outputs": []
    },
    {
      "cell_type": "code",
      "metadata": {
        "id": "hEztOoqS427I"
      },
      "source": [
        "training_images = training_images / 255.0\r\n",
        "test_images = test_images / 255.0"
      ],
      "execution_count": 6,
      "outputs": []
    },
    {
      "cell_type": "code",
      "metadata": {
        "colab": {
          "base_uri": "https://localhost:8080/",
          "height": 283
        },
        "id": "7Tx5UgAh4d9O",
        "outputId": "8f1ddf43-5df2-4a0e-d6ce-80565a787e7b"
      },
      "source": [
        "plt.imshow(training_images[0])\r\n",
        "plt.show()\r\n",
        "print(training_labels[0])"
      ],
      "execution_count": 5,
      "outputs": [
        {
          "output_type": "display_data",
          "data": {
            "image/png": "[encoded data removed]",
            "text/plain": [
              "<Figure size 432x288 with 1 Axes>"
            ]
          },
          "metadata": {
            "tags": [],
            "needs_background": "light"
          }
        },
        {
          "output_type": "stream",
          "text": [
            "9\n"
          ],
          "name": "stdout"
        }
      ]
    },
    {
      "cell_type": "code",
      "metadata": {
        "id": "uciVv5Yr4muF"
      },
      "source": [
        "model = tf.keras.Sequential([\r\n",
        "    tf.keras.layers.Flatten(input_shape=(784,)),\r\n",
        "    tf.keras.layers.Dense(128, activation='relu'),\r\n",
        "    tf.keras.layers.Dense(10, activation='softmax')                             \r\n",
        "])\r\n",
        "\r\n",
        "model.compile(optimizer='adam', loss='sparse_categorical_crossentropy', metrics=['accuracy'])"
      ],
      "execution_count": 9,
      "outputs": []
    },
    {
      "cell_type": "code",
      "metadata": {
        "id": "xOd2Hi3x8tbl"
      },
      "source": [
        "class myCallBack(tf.keras.callbacks.Callback):\r\n",
        "  def on_epoch_end(self, epoch, logs={}):\r\n",
        "    if(logs.get('accuracy') > 0.95):\r\n",
        "      print(\"Achieved 95%\")\r\n",
        "      self.model.stop_training = True\r\n",
        "\r\n",
        "callbacks = myCallBack()"
      ],
      "execution_count": 12,
      "outputs": []
    },
    {
      "cell_type": "code",
      "metadata": {
        "colab": {
          "base_uri": "https://localhost:8080/"
        },
        "id": "6mkVcE6h5Mr-",
        "outputId": "6b31007e-92d3-4ad2-ce1b-4d77f1a8951a"
      },
      "source": [
        "model.fit(training_images,training_labels,validation_data=(test_images, test_labels), epochs=100, callbacks=[callbacks])"
      ],
      "execution_count": 13,
      "outputs": [
        {
          "output_type": "stream",
          "text": [
            "Epoch 1/100\n",
            "1875/1875 [==============================] - 4s 2ms/step - loss: 0.2796 - accuracy: 0.8978 - val_loss: 0.3593 - val_accuracy: 0.8685\n",
            "Epoch 2/100\n",
            "1875/1875 [==============================] - 5s 3ms/step - loss: 0.2682 - accuracy: 0.9004 - val_loss: 0.3564 - val_accuracy: 0.8751\n",
            "Epoch 3/100\n",
            "1875/1875 [==============================] - 4s 2ms/step - loss: 0.2574 - accuracy: 0.9050 - val_loss: 0.3405 - val_accuracy: 0.8842\n",
            "Epoch 4/100\n",
            "1875/1875 [==============================] - 4s 2ms/step - loss: 0.2497 - accuracy: 0.9069 - val_loss: 0.3459 - val_accuracy: 0.8786\n",
            "Epoch 5/100\n",
            "1875/1875 [==============================] - 4s 2ms/step - loss: 0.2397 - accuracy: 0.9100 - val_loss: 0.3287 - val_accuracy: 0.8863\n",
            "Epoch 6/100\n",
            "1875/1875 [==============================] - 4s 2ms/step - loss: 0.2308 - accuracy: 0.9126 - val_loss: 0.3271 - val_accuracy: 0.8877\n",
            "Epoch 7/100\n",
            "1875/1875 [==============================] - 4s 2ms/step - loss: 0.2250 - accuracy: 0.9153 - val_loss: 0.3756 - val_accuracy: 0.8726\n",
            "Epoch 8/100\n",
            "1875/1875 [==============================] - 4s 2ms/step - loss: 0.2184 - accuracy: 0.9183 - val_loss: 0.3452 - val_accuracy: 0.8855\n",
            "Epoch 9/100\n",
            "1875/1875 [==============================] - 4s 2ms/step - loss: 0.2112 - accuracy: 0.9206 - val_loss: 0.3543 - val_accuracy: 0.8803\n",
            "Epoch 10/100\n",
            "1875/1875 [==============================] - 4s 2ms/step - loss: 0.2053 - accuracy: 0.9227 - val_loss: 0.3361 - val_accuracy: 0.8880\n",
            "Epoch 11/100\n",
            "1875/1875 [==============================] - 4s 2ms/step - loss: 0.1993 - accuracy: 0.9238 - val_loss: 0.3483 - val_accuracy: 0.8868\n",
            "Epoch 12/100\n",
            "1875/1875 [==============================] - 4s 2ms/step - loss: 0.1928 - accuracy: 0.9278 - val_loss: 0.3454 - val_accuracy: 0.8833\n",
            "Epoch 13/100\n",
            "1875/1875 [==============================] - 4s 2ms/step - loss: 0.1893 - accuracy: 0.9293 - val_loss: 0.3675 - val_accuracy: 0.8840\n",
            "Epoch 14/100\n",
            "1875/1875 [==============================] - 4s 2ms/step - loss: 0.1850 - accuracy: 0.9303 - val_loss: 0.3593 - val_accuracy: 0.8828\n",
            "Epoch 15/100\n",
            "1875/1875 [==============================] - 4s 2ms/step - loss: 0.1790 - accuracy: 0.9337 - val_loss: 0.3557 - val_accuracy: 0.8857\n",
            "Epoch 16/100\n",
            "1875/1875 [==============================] - 4s 2ms/step - loss: 0.1748 - accuracy: 0.9338 - val_loss: 0.3854 - val_accuracy: 0.8808\n",
            "Epoch 17/100\n",
            "1875/1875 [==============================] - 4s 2ms/step - loss: 0.1723 - accuracy: 0.9353 - val_loss: 0.3657 - val_accuracy: 0.8876\n",
            "Epoch 18/100\n",
            "1875/1875 [==============================] - 4s 2ms/step - loss: 0.1651 - accuracy: 0.9376 - val_loss: 0.3611 - val_accuracy: 0.8916\n",
            "Epoch 19/100\n",
            "1875/1875 [==============================] - 4s 2ms/step - loss: 0.1622 - accuracy: 0.9395 - val_loss: 0.3847 - val_accuracy: 0.8822\n",
            "Epoch 20/100\n",
            "1875/1875 [==============================] - 4s 2ms/step - loss: 0.1617 - accuracy: 0.9385 - val_loss: 0.3711 - val_accuracy: 0.8910\n",
            "Epoch 21/100\n",
            "1875/1875 [==============================] - 4s 2ms/step - loss: 0.1551 - accuracy: 0.9414 - val_loss: 0.3863 - val_accuracy: 0.8850\n",
            "Epoch 22/100\n",
            "1875/1875 [==============================] - 4s 2ms/step - loss: 0.1528 - accuracy: 0.9424 - val_loss: 0.3875 - val_accuracy: 0.8891\n",
            "Epoch 23/100\n",
            "1875/1875 [==============================] - 4s 2ms/step - loss: 0.1515 - accuracy: 0.9434 - val_loss: 0.3896 - val_accuracy: 0.8907\n",
            "Epoch 24/100\n",
            "1875/1875 [==============================] - 4s 2ms/step - loss: 0.1460 - accuracy: 0.9447 - val_loss: 0.3949 - val_accuracy: 0.8885\n",
            "Epoch 25/100\n",
            "1875/1875 [==============================] - 4s 2ms/step - loss: 0.1428 - accuracy: 0.9467 - val_loss: 0.4265 - val_accuracy: 0.8851\n",
            "Epoch 26/100\n",
            "1875/1875 [==============================] - 4s 2ms/step - loss: 0.1394 - accuracy: 0.9472 - val_loss: 0.4205 - val_accuracy: 0.8868\n",
            "Epoch 27/100\n",
            "1875/1875 [==============================] - 4s 2ms/step - loss: 0.1380 - accuracy: 0.9485 - val_loss: 0.4019 - val_accuracy: 0.8863\n",
            "Epoch 28/100\n",
            "1875/1875 [==============================] - 4s 2ms/step - loss: 0.1345 - accuracy: 0.9491 - val_loss: 0.4028 - val_accuracy: 0.8853\n",
            "Epoch 29/100\n",
            "1875/1875 [==============================] - 4s 2ms/step - loss: 0.1329 - accuracy: 0.9493 - val_loss: 0.4041 - val_accuracy: 0.8910\n",
            "Epoch 30/100\n",
            "1875/1875 [==============================] - 4s 2ms/step - loss: 0.1300 - accuracy: 0.9510 - val_loss: 0.4294 - val_accuracy: 0.8854\n",
            "Achieved 95%\n"
          ],
          "name": "stdout"
        },
        {
          "output_type": "execute_result",
          "data": {
            "text/plain": [
              "<tensorflow.python.keras.callbacks.History at 0x7f67a0b3dc88>"
            ]
          },
          "metadata": {
            "tags": []
          },
          "execution_count": 13
        }
      ]
    },
    {
      "cell_type": "code",
      "metadata": {
        "colab": {
          "base_uri": "https://localhost:8080/"
        },
        "id": "3E6CfiU-5aVE",
        "outputId": "603c0806-47b5-4aeb-bcea-121c6dae30ca"
      },
      "source": [
        "model.evaluate(test_images,test_labels)"
      ],
      "execution_count": 11,
      "outputs": [
        {
          "output_type": "stream",
          "text": [
            "313/313 [==============================] - 0s 1ms/step - loss: 0.3477 - accuracy: 0.8724\n"
          ],
          "name": "stdout"
        },
        {
          "output_type": "execute_result",
          "data": {
            "text/plain": [
              "[0.34765055775642395, 0.8723999857902527]"
            ]
          },
          "metadata": {
            "tags": []
          },
          "execution_count": 11
        }
      ]
    },
    {
      "cell_type": "code",
      "metadata": {
        "id": "-dcPuSv-7sR_"
      },
      "source": [
        ""
      ],
      "execution_count": null,
      "outputs": []
    }
  ]
}